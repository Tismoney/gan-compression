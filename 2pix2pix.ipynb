{
 "cells": [
  {
   "cell_type": "markdown",
   "metadata": {
    "colab_type": "text",
    "id": "wEjn7TTwteo7"
   },
   "source": [
    "# Install"
   ]
  },
  {
   "cell_type": "code",
   "execution_count": null,
   "metadata": {
    "colab": {},
    "colab_type": "code",
    "id": "ILBLDRBptlJ7"
   },
   "outputs": [],
   "source": [
    "!git clone https://github.com/Tismoney/gan-compression.git"
   ]
  },
  {
   "cell_type": "code",
   "execution_count": null,
   "metadata": {
    "colab": {},
    "colab_type": "code",
    "id": "ohyUOwJXuCzO"
   },
   "outputs": [],
   "source": [
    "import os\n",
    "os.chdir('gan-compression')\n",
    "print(os.getcwd())"
   ]
  },
  {
   "cell_type": "code",
   "execution_count": null,
   "metadata": {
    "colab": {},
    "colab_type": "code",
    "id": "9MAafxEuuM3S"
   },
   "outputs": [],
   "source": [
    "!pip install -r requirements.txt\n",
    "!pip install --upgrade git+https://github.com/mit-han-lab/torchprofile.git"
   ]
  },
  {
   "cell_type": "code",
   "execution_count": null,
   "metadata": {
    "colab": {},
    "colab_type": "code",
    "id": "lGIBwW-rFTOv"
   },
   "outputs": [],
   "source": [
    "import pickle\n",
    "import time\n",
    "import tqdm\n",
    "\n",
    "import numpy as np\n",
    "import torch"
   ]
  },
  {
   "cell_type": "markdown",
   "metadata": {
    "colab_type": "text",
    "id": "huMEiWB7vQeU"
   },
   "source": [
    "# Pretrained Models\n",
    "Download the original model and our compressed of edges2shoes dataset."
   ]
  },
  {
   "cell_type": "code",
   "execution_count": null,
   "metadata": {
    "colab": {},
    "colab_type": "code",
    "id": "-ttwzwbS0L5i"
   },
   "outputs": [],
   "source": [
    "!python3 scripts/download_fomm.py \n",
    "print('Download the pretrained models successfully!!!')"
   ]
  },
  {
   "cell_type": "markdown",
   "metadata": {
    "colab_type": "text",
    "id": "cPvL2-Sbxwep"
   },
   "source": [
    "# Models"
   ]
  },
  {
   "cell_type": "code",
   "execution_count": null,
   "metadata": {},
   "outputs": [],
   "source": [
    "from models import create_model"
   ]
  },
  {
   "cell_type": "markdown",
   "metadata": {
    "colab_type": "text",
    "id": "rxUAG0iCxwer",
    "pycharm": {
     "name": "#%% md\n"
    }
   },
   "source": [
    "Get the options for the loading models"
   ]
  },
  {
   "cell_type": "code",
   "execution_count": null,
   "metadata": {
    "colab": {},
    "colab_type": "code",
    "id": "f7zb8niYxwet",
    "pycharm": {
     "name": "#%%\n"
    }
   },
   "outputs": [],
   "source": [
    "!python get_test_opt.py --dataroot database/fomm_100k \\\n",
    "--results_dir results-pretrained/2pix2pix/fomm \\\n",
    "--ngf 96 --netG mobile_resnet_9blocks \\\n",
    "--restore_G_path pretrained/fomm/full/latest_net_G.pth \\\n",
    "--real_stat_path real_stat/fomm_B.npz \\\n",
    "--input_nc 6 --output_nc 3 \\\n",
    "--use_motion \\\n",
    "--need_profile --num_test 0\n",
    "\n",
    "with open('opts/opt_full.pkl', 'rb') as f:\n",
    "    opt = pickle.load(f)\n",
    "full_model = create_model(opt, verbose=False)\n",
    "full_model.setup(opt, verbose=False)"
   ]
  },
  {
   "cell_type": "code",
   "execution_count": null,
   "metadata": {},
   "outputs": [],
   "source": [
    "!python get_test_opt.py --dataroot database/fomm_100k \\\n",
    "--results_dir results-pretrained/2pix2pix/fomm \\\n",
    "--ngf 48 --netG mobile_resnet_9blocks \\\n",
    "--restore_G_path pretrained/fomm/full/latest_net_G_distilled.pth \\\n",
    "--real_stat_path real_stat/fomm_B.npz \\\n",
    "--input_nc 6 --output_nc 3 \\\n",
    "--use_motion \\\n",
    "--need_profile --num_test 0\n",
    "\n",
    "with open('opts/opt_full.pkl', 'rb') as f:\n",
    "    opt = pickle.load(f)\n",
    "distill_model = create_model(opt, verbose=False)\n",
    "distill_model.setup(opt, verbose=False)"
   ]
  },
  {
   "cell_type": "code",
   "execution_count": null,
   "metadata": {},
   "outputs": [],
   "source": [
    "from IPython.display import display\n",
    "from PIL import Image\n",
    "import torchvision.transforms as transforms\n",
    "\n",
    "from utils.util import save_image, tensor2im\n",
    "\n",
    "import imageio\n",
    "from skimage.transform import resize\n",
    "import matplotlib.pyplot as plt\n",
    "import matplotlib.animation as animation\n",
    "from tqdm import tqdm"
   ]
  },
  {
   "cell_type": "code",
   "execution_count": null,
   "metadata": {},
   "outputs": [],
   "source": [
    "transform_list = [\n",
    "    transforms.Resize((256, 256)),\n",
    "    transforms.ToTensor(),\n",
    "    transforms.Normalize((0.5, 0.5, 0.5), (0.5, 0.5, 0.5))\n",
    "]\n",
    "transform = transforms.Compose(transform_list)"
   ]
  },
  {
   "cell_type": "markdown",
   "metadata": {},
   "source": [
    "Chooose image and video"
   ]
  },
  {
   "cell_type": "code",
   "execution_count": null,
   "metadata": {},
   "outputs": [],
   "source": [
    "source_image = Image.open('./content/imgs/got-03.png')\n",
    "source_image = Image.fromarray(np.array(source_image)[..., :3])\n",
    "driving_video = imageio.mimread('./content/vids/10.mp4')\n",
    "driving_video = [Image.fromarray(np.array(frame)[..., :3]) for frame in driving_video]"
   ]
  },
  {
   "cell_type": "code",
   "execution_count": null,
   "metadata": {},
   "outputs": [],
   "source": [
    "@torch.no_grad()\n",
    "def animate(source_image, driving_video, full_model, compressed):\n",
    "    source = source_image\n",
    "    source = transform(source)\n",
    "    source_image = tensor2im(source)\n",
    "    \n",
    "    result = []\n",
    "    \n",
    "    for i in tqdm(range(len(driving_video))):\n",
    "        drive = driving_video[i]\n",
    "        drive = transform(drive)\n",
    "        \n",
    "        stacked_input = torch.cat([source, drive], dim=0).unsqueeze(0)\n",
    "        \n",
    "        output_full_model = full_model(stacked_input).squeeze().cpu()\n",
    "        output_compressed = compressed(stacked_input).squeeze().cpu()\n",
    "        \n",
    "        stacked_output = np.hstack([\n",
    "            source_image,\n",
    "            tensor2im(drive),\n",
    "            tensor2im(output_full_model),\n",
    "            tensor2im(output_compressed)\n",
    "        ])\n",
    "        result.append(stacked_output)\n",
    "    return result"
   ]
  },
  {
   "cell_type": "code",
   "execution_count": null,
   "metadata": {},
   "outputs": [],
   "source": [
    "result = animate(source_image, driving_video, full_model.netG, distill_model.netG)"
   ]
  },
  {
   "cell_type": "code",
   "execution_count": null,
   "metadata": {},
   "outputs": [],
   "source": [
    "#Save new video\n",
    "writer = imageio.get_writer('test.mp4', fps=20)\n",
    "for frame in result:\n",
    "    writer.append_data(frame)\n",
    "writer.close()"
   ]
  },
  {
   "cell_type": "code",
   "execution_count": null,
   "metadata": {},
   "outputs": [],
   "source": [
    "Image.fromarray(result[0])"
   ]
  },
  {
   "cell_type": "code",
   "execution_count": null,
   "metadata": {},
   "outputs": [],
   "source": []
  },
  {
   "cell_type": "code",
   "execution_count": null,
   "metadata": {},
   "outputs": [],
   "source": []
  }
 ],
 "metadata": {
  "accelerator": "GPU",
  "colab": {
   "collapsed_sections": [],
   "name": "cycle_gan.ipynb",
   "provenance": [],
   "toc_visible": true
  },
  "kernelspec": {
   "display_name": "Python 3",
   "language": "python",
   "name": "python3"
  },
  "language_info": {
   "codemirror_mode": {
    "name": "ipython",
    "version": 3
   },
   "file_extension": ".py",
   "mimetype": "text/x-python",
   "name": "python",
   "nbconvert_exporter": "python",
   "pygments_lexer": "ipython3",
   "version": "3.7.3"
  },
  "pycharm": {
   "stem_cell": {
    "cell_type": "raw",
    "metadata": {
     "collapsed": false
    },
    "source": []
   }
  }
 },
 "nbformat": 4,
 "nbformat_minor": 1
}
